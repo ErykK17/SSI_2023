{
 "cells": [
  {
   "cell_type": "markdown",
   "source": [
    "# Dane wejściowe"
   ],
   "metadata": {
    "collapsed": false
   }
  },
  {
   "cell_type": "code",
   "execution_count": 23,
   "outputs": [],
   "source": [
    "sample_str = [[\"1\",\"a\",\"2.2\"],[\"3\",\"4\",\"5\"]]\n",
    "atr_numbers = [0,1,2]"
   ],
   "metadata": {
    "collapsed": false,
    "ExecuteTime": {
     "end_time": "2023-10-10T13:45:44.095333477Z",
     "start_time": "2023-10-10T13:45:44.076970588Z"
    }
   }
  },
  {
   "cell_type": "markdown",
   "source": [
    "# Funkcja"
   ],
   "metadata": {
    "collapsed": false
   }
  },
  {
   "cell_type": "code",
   "execution_count": 24,
   "outputs": [],
   "source": [
    "def convert_string_to_double(list,atr_numbers):\n",
    "    result = []\n",
    "    for sublist in list:\n",
    "        desired_values = []\n",
    "        for index, val in enumerate(sublist):\n",
    "            if index in atr_numbers:\n",
    "                try:\n",
    "                    desired_values.append(float(val))\n",
    "                except ValueError:\n",
    "                    print(f'Nie można przekonwertować {val} na float')\n",
    "        result.append(desired_values)\n",
    "    return result"
   ],
   "metadata": {
    "collapsed": false,
    "ExecuteTime": {
     "end_time": "2023-10-10T13:45:44.128998366Z",
     "start_time": "2023-10-10T13:45:44.127524074Z"
    }
   }
  },
  {
   "cell_type": "markdown",
   "source": [
    "# Wywołanie\n"
   ],
   "metadata": {
    "collapsed": false
   }
  },
  {
   "cell_type": "code",
   "execution_count": 25,
   "outputs": [
    {
     "name": "stdout",
     "output_type": "stream",
     "text": [
      "Nie można przekonwertować a na float\n",
      "[[1.0, 2.2], [3.0, 4.0, 5.0]]\n"
     ]
    }
   ],
   "source": [
    "converted_list = convert_string_to_double(sample_str,atr_numbers)\n",
    "print(converted_list)"
   ],
   "metadata": {
    "collapsed": false,
    "ExecuteTime": {
     "end_time": "2023-10-10T13:45:44.129845338Z",
     "start_time": "2023-10-10T13:45:44.127818388Z"
    }
   }
  },
  {
   "cell_type": "code",
   "execution_count": 25,
   "outputs": [],
   "source": [],
   "metadata": {
    "collapsed": false,
    "ExecuteTime": {
     "end_time": "2023-10-10T13:45:44.130350993Z",
     "start_time": "2023-10-10T13:45:44.128024631Z"
    }
   }
  }
 ],
 "metadata": {
  "kernelspec": {
   "display_name": "Python 3",
   "language": "python",
   "name": "python3"
  },
  "language_info": {
   "codemirror_mode": {
    "name": "ipython",
    "version": 2
   },
   "file_extension": ".py",
   "mimetype": "text/x-python",
   "name": "python",
   "nbconvert_exporter": "python",
   "pygments_lexer": "ipython2",
   "version": "2.7.6"
  }
 },
 "nbformat": 4,
 "nbformat_minor": 0
}
