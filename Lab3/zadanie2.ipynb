{
 "cells": [
  {
   "cell_type": "markdown",
   "metadata": {
    "collapsed": false,
    "jupyter": {
     "outputs_hidden": false
    }
   },
   "source": [
    "# Import"
   ]
  },
  {
   "cell_type": "code",
   "execution_count": 1249,
   "metadata": {
    "collapsed": false,
    "jupyter": {
     "outputs_hidden": false
    },
    "ExecuteTime": {
     "end_time": "2023-10-14T12:19:19.320471Z",
     "start_time": "2023-10-14T12:19:19.262002583Z"
    }
   },
   "outputs": [],
   "source": [
    "import numpy as np\n",
    "import copy\n",
    "from matplotlib import pyplot as plt"
   ]
  },
  {
   "cell_type": "markdown",
   "metadata": {
    "collapsed": false,
    "jupyter": {
     "outputs_hidden": false
    }
   },
   "source": [
    "# Funkcja wczytywania danych"
   ]
  },
  {
   "cell_type": "code",
   "execution_count": 1250,
   "metadata": {
    "collapsed": false,
    "jupyter": {
     "outputs_hidden": false
    },
    "ExecuteTime": {
     "end_time": "2023-10-14T12:19:19.351309345Z",
     "start_time": "2023-10-14T12:19:19.277395530Z"
    }
   },
   "outputs": [],
   "source": [
    "def load_samples_with_text(plik_z_wartosciami):\n",
    "    data = []\n",
    "    with open(plik_z_wartosciami) as file:\n",
    "        for line in file:\n",
    "            raw_val = line.strip().split()\n",
    "            val = [float(val) for val in raw_val]\n",
    "            data.append(val)\n",
    "    return data"
   ]
  },
  {
   "cell_type": "markdown",
   "metadata": {
    "collapsed": false,
    "jupyter": {
     "outputs_hidden": false
    }
   },
   "source": [
    "# Wczytanie danych"
   ]
  },
  {
   "cell_type": "code",
   "execution_count": 1251,
   "metadata": {
    "collapsed": false,
    "jupyter": {
     "outputs_hidden": false
    },
    "ExecuteTime": {
     "end_time": "2023-10-14T12:19:19.351855790Z",
     "start_time": "2023-10-14T12:19:19.284183635Z"
    }
   },
   "outputs": [],
   "source": [
    "data = load_samples_with_text(\"spirala.txt\")"
   ]
  },
  {
   "cell_type": "markdown",
   "metadata": {
    "collapsed": false,
    "jupyter": {
     "outputs_hidden": false
    }
   },
   "source": [
    "# Generowanie środków"
   ]
  },
  {
   "cell_type": "code",
   "execution_count": 1252,
   "metadata": {
    "collapsed": false,
    "jupyter": {
     "outputs_hidden": false
    },
    "ExecuteTime": {
     "end_time": "2023-10-14T12:19:19.352314584Z",
     "start_time": "2023-10-14T12:19:19.307359101Z"
    }
   },
   "outputs": [],
   "source": [
    "def generate_centers(data, k):\n",
    "    centers = []\n",
    "    for i in range(k):\n",
    "        random_index = np.random.randint(len(data))\n",
    "        centers.append(data[random_index])\n",
    "    return np.asarray(centers)"
   ]
  },
  {
   "cell_type": "markdown",
   "metadata": {
    "collapsed": false,
    "jupyter": {
     "outputs_hidden": false
    }
   },
   "source": [
    "# Grupowanie punktów"
   ]
  },
  {
   "cell_type": "code",
   "execution_count": 1253,
   "metadata": {
    "collapsed": false,
    "jupyter": {
     "outputs_hidden": false
    },
    "ExecuteTime": {
     "end_time": "2023-10-14T12:19:19.353102614Z",
     "start_time": "2023-10-14T12:19:19.314318948Z"
    }
   },
   "outputs": [],
   "source": [
    "def cluster_points(data, centers, k):\n",
    "    clusters = []\n",
    "    for i in range(len(data)):\n",
    "        distance = []\n",
    "        for j in range(k):\n",
    "            distance.append(np.linalg.norm(np.subtract(data[i], centers[j])))\n",
    "        index = np.argmin(distance)\n",
    "        clusters.append(index)\n",
    "    return np.asarray(clusters)\n",
    "\n"
   ]
  },
  {
   "cell_type": "markdown",
   "metadata": {
    "collapsed": false,
    "jupyter": {
     "outputs_hidden": false
    }
   },
   "source": [
    "# Powtarzanie kroków do minimalnej różnicy"
   ]
  },
  {
   "cell_type": "code",
   "execution_count": 1254,
   "metadata": {
    "collapsed": false,
    "jupyter": {
     "outputs_hidden": false
    },
    "ExecuteTime": {
     "end_time": "2023-10-14T12:19:19.370378856Z",
     "start_time": "2023-10-14T12:19:19.364185946Z"
    }
   },
   "outputs": [],
   "source": [
    "def difference_is_enough(old, new):\n",
    "    diff = 0\n",
    "    for i in range(len(old)):\n",
    "        diff += np.linalg.norm(old[i] - new[i])\n",
    "    if diff == 0:\n",
    "        return True\n",
    "    else:\n",
    "        return False"
   ]
  },
  {
   "cell_type": "markdown",
   "metadata": {
    "collapsed": false,
    "jupyter": {
     "outputs_hidden": false
    }
   },
   "source": [
    "# Aktualizowanie środków"
   ]
  },
  {
   "cell_type": "code",
   "execution_count": 1255,
   "metadata": {
    "collapsed": false,
    "jupyter": {
     "outputs_hidden": false
    },
    "ExecuteTime": {
     "end_time": "2023-10-14T12:19:19.370518750Z",
     "start_time": "2023-10-14T12:19:19.364435492Z"
    }
   },
   "outputs": [],
   "source": [
    "def update_centers(data, clusters, k):\n",
    "    center = []\n",
    "    for i in range(k):\n",
    "        temp = []\n",
    "        for j in range(len(data)):\n",
    "            if clusters[j] == i:\n",
    "                temp.append(data[j])\n",
    "        center.append(np.mean(temp, axis=0))\n",
    "    return np.asarray(center)"
   ]
  },
  {
   "cell_type": "markdown",
   "metadata": {
    "collapsed": false,
    "jupyter": {
     "outputs_hidden": false
    }
   },
   "source": [
    "# Pętla algorytmu"
   ]
  },
  {
   "cell_type": "code",
   "execution_count": 1256,
   "metadata": {
    "collapsed": false,
    "jupyter": {
     "outputs_hidden": false
    },
    "ExecuteTime": {
     "end_time": "2023-10-14T12:19:19.370577138Z",
     "start_time": "2023-10-14T12:19:19.364586631Z"
    }
   },
   "outputs": [],
   "source": [
    "centers = generate_centers(data, 4)\n",
    "clusters = cluster_points(data, centers, 4)\n",
    "\n",
    "\n",
    "def alg_loop(data, clusters, centers):\n",
    "    old_centers = centers\n",
    "    new_centers = update_centers(data, clusters, 4)\n",
    "    new_clusters = cluster_points(data, new_centers, 4)\n",
    "    while True:\n",
    "        if difference_is_enough(old_centers, new_centers):\n",
    "            return new_centers, new_clusters\n",
    "        else:\n",
    "            old_centers = copy.copy(new_centers)\n",
    "            old_clusters = copy.copy(new_clusters)\n",
    "            new_centers = update_centers(data, old_clusters, 4)\n",
    "            new_clusters = cluster_points(data, old_centers, 4)\n",
    "\n",
    "\n",
    "centers2, clusters2 = alg_loop(data, clusters, centers)"
   ]
  },
  {
   "cell_type": "markdown",
   "metadata": {
    "collapsed": false,
    "jupyter": {
     "outputs_hidden": false
    }
   },
   "source": [
    "# Umieszczenie pogrupowanych punktów na wykresie"
   ]
  },
  {
   "cell_type": "code",
   "execution_count": 1257,
   "metadata": {
    "collapsed": false,
    "jupyter": {
     "outputs_hidden": false
    },
    "ExecuteTime": {
     "end_time": "2023-10-14T12:19:20.333499758Z",
     "start_time": "2023-10-14T12:19:19.367588589Z"
    }
   },
   "outputs": [
    {
     "data": {
      "text/plain": "<Figure size 640x480 with 1 Axes>",
      "image/png": "[encoded data removed]"
     },
     "metadata": {},
     "output_type": "display_data"
    }
   ],
   "source": [
    "fig = plt.figure()\n",
    "colors = {0: 'magenta', 1: 'g', 2: 'b', 3: 'y'}\n",
    "for i in range(len(clusters2)):\n",
    "    plt.scatter(data[i][0], data[i][1], color=colors[clusters2[i]])\n",
    "for i in range(len(centers2)):\n",
    "    plt.scatter(centers2[i][0],centers2[i][1],s=100,marker='o', color='r')"
   ]
  }
 ],
 "metadata": {
  "kernelspec": {
   "display_name": "Python 3 (ipykernel)",
   "language": "python",
   "name": "python3"
  },
  "language_info": {
   "codemirror_mode": {
    "name": "ipython",
    "version": 3
   },
   "file_extension": ".py",
   "mimetype": "text/x-python",
   "name": "python",
   "nbconvert_exporter": "python",
   "pygments_lexer": "ipython3",
   "version": "3.10.12"
  }
 },
 "nbformat": 4,
 "nbformat_minor": 4
}
